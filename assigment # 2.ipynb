{
 "cells": [
  {
   "cell_type": "code",
   "execution_count": 13,
   "metadata": {},
   "outputs": [
    {
     "name": "stdout",
     "output_type": "stream",
     "text": [
      "Enter the English marks :55\n",
      "Enter the Urdu marks :88\n",
      "Enter the Math marks :88\n",
      "Enter the Islamiat marks :99\n",
      "Enter the Computer marks :66\n",
      "396.0\n",
      "79.2\n",
      "Your grade is A\n"
     ]
    }
   ],
   "source": [
    "eng = float(input(\"Enter the English marks :\"))\n",
    "urdu = float(input(\"Enter the Urdu marks :\"))\n",
    "math = float(input(\"Enter the Math marks :\"))\n",
    "isl = float(input(\"Enter the Islamiat marks :\"))\n",
    "com = float(input(\"Enter the Computer marks :\"))\n",
    "sum = eng+urdu+math+isl+com\n",
    "print(sum)\n",
    "per = (sum/500)*100\n",
    "print (per);\n",
    "if per >= 90 and per <= 100:\n",
    "    print(\"Your grade is A+1\")\n",
    "elif per >= 80 and per <= 90:\n",
    "    print(\"Your grade is A+\")\n",
    "elif per >= 70 and per <= 80:\n",
    "    print(\"Your grade is A\")\n",
    "elif per >= 60 and per <= 70:\n",
    "    print(\"Your grade is B\")\n",
    "elif per >= 50 and per <= 60:\n",
    "    print(\"Your grade is C\")\n",
    "elif per >= 53 and per <= 50:\n",
    "    print(\"Your grade is D\")\n",
    "elif per >= 40 and per <= 53:\n",
    "    print(\"Your grade is E\")\n",
    "else :\n",
    "    print(\"you have given inapproperiate percentage\")\n",
    "    \n",
    "    \n",
    "        "
   ]
  },
  {
   "cell_type": "code",
   "execution_count": 22,
   "metadata": {},
   "outputs": [
    {
     "name": "stdout",
     "output_type": "stream",
     "text": [
      "Enter the num : 3\n",
      "The Number Is Odd\n"
     ]
    }
   ],
   "source": [
    "a=int(input(\"Enter the num : \"));\n",
    "if ((a % 2)== 0):\n",
    "    print(\"The Number Is Even\")\n",
    "else:\n",
    "    print(\"The Number Is Odd\")"
   ]
  },
  {
   "cell_type": "code",
   "execution_count": 23,
   "metadata": {},
   "outputs": [
    {
     "name": "stdout",
     "output_type": "stream",
     "text": [
      "7\n"
     ]
    }
   ],
   "source": [
    "val1=[\"ziyad\",5,\"usman\",\"roohan\",2,\"kashan\",\"zain\"]\n",
    "print(len(val1))"
   ]
  },
  {
   "cell_type": "code",
   "execution_count": 1,
   "metadata": {},
   "outputs": [
    {
     "name": "stdout",
     "output_type": "stream",
     "text": [
      "36\n"
     ]
    }
   ],
   "source": [
    "val1=[1,2,3,4,5,6,7,8]\n",
    "print(sum(val1))\n"
   ]
  },
  {
   "cell_type": "code",
   "execution_count": 2,
   "metadata": {},
   "outputs": [
    {
     "name": "stdout",
     "output_type": "stream",
     "text": [
      "8\n"
     ]
    }
   ],
   "source": [
    "num = [1,2,3,4,5,6,7,8]\n",
    "print(max(num))"
   ]
  },
  {
   "cell_type": "code",
   "execution_count": 5,
   "metadata": {},
   "outputs": [
    {
     "name": "stdout",
     "output_type": "stream",
     "text": [
      "[1, 2, 3, 4]\n"
     ]
    }
   ],
   "source": [
    "arr=[1,2,3,4,5,6,7,8,9,10,11,12]\n",
    "new_list=[]\n",
    "\n",
    "for item in arr:\n",
    "    if item < 5:\n",
    "        new_list.append(item)\n",
    "\n",
    "print(new_list)"
   ]
  },
  {
   "cell_type": "code",
   "execution_count": null,
   "metadata": {},
   "outputs": [],
   "source": []
  }
 ],
 "metadata": {
  "kernelspec": {
   "display_name": "Python 3",
   "language": "python",
   "name": "python3"
  },
  "language_info": {
   "codemirror_mode": {
    "name": "ipython",
    "version": 3
   },
   "file_extension": ".py",
   "mimetype": "text/x-python",
   "name": "python",
   "nbconvert_exporter": "python",
   "pygments_lexer": "ipython3",
   "version": "3.7.4"
  }
 },
 "nbformat": 4,
 "nbformat_minor": 2
}
