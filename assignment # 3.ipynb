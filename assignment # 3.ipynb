{
 "cells": [
  {
   "cell_type": "code",
   "execution_count": 1,
   "metadata": {},
   "outputs": [
    {
     "name": "stdout",
     "output_type": "stream",
     "text": [
      "Enter First Number: 33\n",
      "Enter Second Number: 44\n",
      "Enter any of these char for specific operation +,-,*,/,**: +\n",
      "33 + 44 : 77\n"
     ]
    }
   ],
   "source": [
    "num1 = int(input(\"Enter First Number: \"))\n",
    "num2 = int(input(\"Enter Second Number: \"))\n",
    "operator = input(\"Enter any of these char for specific operation +,-,*,/,**: \")\n",
    "if operator == '+':\n",
    "    result = num1 + num2\n",
    "elif operator == '-':\n",
    "    result = num1 - num2\n",
    "elif operator == '*':\n",
    "    result = num1 * num2\n",
    "elif operator == '/':\n",
    "    result = num1 / num2\n",
    "elif operator == '**':\n",
    "    result = num1 ** num2\n",
    "else:\n",
    "    print(\"Input character is not recognized!\")\n",
    "\n",
    "print(num1, operator , num2, \":\", result)"
   ]
  },
  {
   "cell_type": "code",
   "execution_count": 8,
   "metadata": {},
   "outputs": [
    {
     "name": "stdout",
     "output_type": "stream",
     "text": [
      "dictionary is: {'first_name': 'Ziyad', 'last_name': 'hussain', 'address': '123 colony street'}\n",
      "updated dictionary is : {'first_name': 'Ziyad', 'last_name': 'hussain', 'address': '123 colony street', 'father': 'zahid hussain', 'Martial status': 'single'}\n"
     ]
    }
   ],
   "source": [
    "student_103 = {\n",
    "\"first_name\":\"Ziyad\",\n",
    "\"last_name\":\"hussain\",\n",
    "\"address\":\"123 colony street\",\n",
    "            }\n",
    "print(\"dictionary is:\",student_103)\n",
    "student_103 ['father'] = 'zahid hussain'\n",
    "student_103 ['Martial status'] = \"single\"\n",
    "\n",
    "print(\"updated dictionary is :\",student_103)"
   ]
  },
  {
   "cell_type": "code",
   "execution_count": 12,
   "metadata": {},
   "outputs": [
    {
     "name": "stdout",
     "output_type": "stream",
     "text": [
      "120\n"
     ]
    }
   ],
   "source": [
    "dict = {'a': 10,'b': 60 ,'c': 80}\n",
    "sum1 = sum(dict[item] for item in dict)\n",
    "print(sum1)"
   ]
  },
  {
   "cell_type": "code",
   "execution_count": null,
   "metadata": {},
   "outputs": [],
   "source": []
  }
 ],
 "metadata": {
  "kernelspec": {
   "display_name": "Python 3",
   "language": "python",
   "name": "python3"
  },
  "language_info": {
   "codemirror_mode": {
    "name": "ipython",
    "version": 3
   },
   "file_extension": ".py",
   "mimetype": "text/x-python",
   "name": "python",
   "nbconvert_exporter": "python",
   "pygments_lexer": "ipython3",
   "version": "3.7.4"
  }
 },
 "nbformat": 4,
 "nbformat_minor": 2
}
